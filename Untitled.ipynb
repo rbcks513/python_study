{
 "cells": [
  {
   "cell_type": "code",
   "execution_count": 1,
   "id": "43d063ff",
   "metadata": {},
   "outputs": [
    {
     "name": "stdout",
     "output_type": "stream",
     "text": [
      "8.5\n"
     ]
    }
   ],
   "source": [
    "print(17/2)"
   ]
  },
  {
   "cell_type": "code",
   "execution_count": null,
   "id": "8f970e34",
   "metadata": {},
   "outputs": [],
   "source": []
  },
  {
   "cell_type": "code",
   "execution_count": 2,
   "id": "7aa70313",
   "metadata": {},
   "outputs": [
    {
     "data": {
      "text/plain": [
       "'atg'"
      ]
     },
     "execution_count": 2,
     "metadata": {},
     "output_type": "execute_result"
    }
   ],
   "source": [
    "dna=\"atgctggggact\"\n",
    "dna[:3]"
   ]
  },
  {
   "cell_type": "code",
   "execution_count": 4,
   "id": "094ef0fa",
   "metadata": {
    "scrolled": false
   },
   "outputs": [
    {
     "data": {
      "text/plain": [
       "3"
      ]
     },
     "execution_count": 4,
     "metadata": {},
     "output_type": "execute_result"
    }
   ],
   "source": [
    " dna='agcagttagcta'\n",
    "    \n",
    "dna.count( 'ag' )"
   ]
  },
  {
   "cell_type": "code",
   "execution_count": 5,
   "id": "5c2d7dbc",
   "metadata": {},
   "outputs": [],
   "source": [
    "seqlen = '10bp'\n",
    "seqlen='2'+seqlen\n",
    "seqlen=seqlen*2"
   ]
  },
  {
   "cell_type": "code",
   "execution_count": 18,
   "id": "95dc0256",
   "metadata": {},
   "outputs": [
    {
     "name": "stdout",
     "output_type": "stream",
     "text": [
      "Enter a DNA sequence, please:atgsdfsdfatgfdsfsf\n"
     ]
    }
   ],
   "source": [
    " dna=input(\"Enter a DNA sequence, please:\")"
   ]
  },
  {
   "cell_type": "code",
   "execution_count": 19,
   "id": "95f7c4b1",
   "metadata": {},
   "outputs": [
    {
     "data": {
      "text/plain": [
       "9"
      ]
     },
     "execution_count": 19,
     "metadata": {},
     "output_type": "execute_result"
    }
   ],
   "source": [
    "o1 = dna.find('atg')\n",
    "dna.find('atg',o1+1)"
   ]
  },
  {
   "cell_type": "code",
   "execution_count": 20,
   "id": "c25488ed",
   "metadata": {},
   "outputs": [
    {
     "data": {
      "text/plain": [
       "9"
      ]
     },
     "execution_count": 20,
     "metadata": {},
     "output_type": "execute_result"
    }
   ],
   "source": [
    "dna.rfind('atg')"
   ]
  },
  {
   "cell_type": "code",
   "execution_count": 21,
   "id": "54bf2cde",
   "metadata": {},
   "outputs": [
    {
     "data": {
      "text/plain": [
       "9"
      ]
     },
     "execution_count": 21,
     "metadata": {},
     "output_type": "execute_result"
    }
   ],
   "source": [
    " dna.find('atg',dna.find('atg')+1) "
   ]
  },
  {
   "cell_type": "code",
   "execution_count": 27,
   "id": "799a51fc",
   "metadata": {},
   "outputs": [
    {
     "data": {
      "text/plain": [
       "11"
      ]
     },
     "execution_count": 27,
     "metadata": {},
     "output_type": "execute_result"
    }
   ],
   "source": [
    "int(4+6/2+2*2)"
   ]
  },
  {
   "cell_type": "code",
   "execution_count": null,
   "id": "0b30e92e",
   "metadata": {},
   "outputs": [],
   "source": []
  }
 ],
 "metadata": {
  "kernelspec": {
   "display_name": "Python 3 (ipykernel)",
   "language": "python",
   "name": "python3"
  },
  "language_info": {
   "codemirror_mode": {
    "name": "ipython",
    "version": 3
   },
   "file_extension": ".py",
   "mimetype": "text/x-python",
   "name": "python",
   "nbconvert_exporter": "python",
   "pygments_lexer": "ipython3",
   "version": "3.10.12"
  }
 },
 "nbformat": 4,
 "nbformat_minor": 5
}
