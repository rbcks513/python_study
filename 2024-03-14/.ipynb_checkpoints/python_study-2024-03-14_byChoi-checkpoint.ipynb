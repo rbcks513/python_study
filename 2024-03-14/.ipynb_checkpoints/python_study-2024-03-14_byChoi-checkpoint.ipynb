{
 "cells": [
  {
   "cell_type": "markdown",
   "id": "e2f8dff5",
   "metadata": {},
   "source": [
    "# 2024-03-14\n",
    "## Python Study for PBI Lab Crew"
   ]
  },
  {
   "cell_type": "markdown",
   "id": "dfea9dfb",
   "metadata": {},
   "source": [
    "# Computer 에 대한 이해\n",
    "\n",
    "**OS? Kernel? shell? python? 뭔데 그게?**\n",
    "\n",
    "**OS란?? Operating System(OS)**\n",
    "<br>\n",
    " 컴퓨터 시스템의 핵심 소프트웨어로, 컴퓨터 하드웨어와 응용 프로그램 간의 상호작용을 관리하고 제어하는 역할을 한다. \n",
    " \n",
    "![img](https://img1.daumcdn.net/thumb/R1280x0/?scode=mtistory2&fname=https%3A%2F%2Fblog.kakaocdn.net%2Fdn%2FcOkGK5%2FbtsjmCGpJkH%2F6CkSoiCHFJkAiUV1gCKKV1%2Fimg.png)\n",
    "\n",
    "\n",
    "<br><br>\n",
    "**커널이란**\n",
    "<br>\n",
    "커널(Kernel)은 운영체제(OS) 중 항상 메모리에 올라가 있는 운영체제의 핵심 부분으로써 하드웨어와 응용 프로그램 사이에서 인터페이스를 제공하는 역할을 하며 컴퓨터 자원들을 관리하는 역할을 한다. 즉, 커널은 인터페이스로써 응용 프로그램 수행에 필요한 여러가지 서비스를 제공하고, 여러가지 하드웨어(CPU, 메모리) 등의 리소스를 관리하는 역할을 한다.\n",
    "\n",
    "다만 이러한 커널은 항상 컴퓨터 자원들을 바라만 보고 있기에 사용자와의 상호작용은 지원하지 않는다. 따라서 사용자와의 직접전인 상호작용을 위해 프로그램을 제공하게 되는데, 대표적으로 **쉘(Shell)**\n",
    "이라는 명령어 해석기등이 있다.\n",
    "\n",
    "![img](https://img1.daumcdn.net/thumb/R1280x0/?scode=mtistory2&fname=https%3A%2F%2Fblog.kakaocdn.net%2Fdn%2Fd3bS7t%2FbtrnW2uPm0N%2FzDF5ZzZe6Bzd8SdQOkYiTK%2Fimg.png)\n",
    "![img](https://images.velog.io/images/byunji_jump/post/3af7c087-52bb-4653-85e6-e74fffa759d1/image.png)\n",
    "\n",
    "https://minkwon4.tistory.com/295"
   ]
  },
  {
   "cell_type": "markdown",
   "id": "3abb11a2",
   "metadata": {},
   "source": [
    "**터미널(terminal) :**\n",
    "\n",
    "-인간과 컴퓨터가 소통하게 해주는 통로, 인터페이스라고 생각하면 쉽다. \n",
    "\n",
    " \n",
    "\n",
    "-터미널은 크게 gui 기반 터미널과 텍스트 기반 터미널이 두 가지가 있는데 그중 리눅스 터미널은 텍스트 기반 터미널이다. 터미널은 주로 shell을 이용한다. \n",
    "\n",
    " \n",
    "\n",
    "-서버의 로컬 또는 원격으로 접속할 수 있는 콘솔을 구현한 소프트웨어\n",
    "\n",
    " \n",
    "\n",
    " \n",
    "\n",
    "**콘솔(console) :**\n",
    "\n",
    "-터미널의 일종으로, 시스템 제어를 위한 특수목적 터미널이다. \n",
    "\n",
    " \n",
    "\n",
    "-서버의 로컬 장치에서 직접 명령어를 작성할 수 있는 입출력 장치.\n",
    "\n",
    " \n",
    "\n",
    "-콘솔이 물리적인 장치라면 터미널은 원격제어 환경까지 포함하는 더 넓은 의미라고 할 수 있다.\n",
    "\n",
    " \n",
    "\n",
    "-콘솔 = 물리적 터미널"
   ]
  },
  {
   "cell_type": "markdown",
   "id": "f434538a",
   "metadata": {},
   "source": [
    "**프로그래밍 언어?? 코딩??**\n",
    "<br>\n",
    "\n",
    "컴파일 언어와 인터프리트 언어\n",
    "　프로그래밍 언어는 일반적으로 고급 언어와 저급 언어로 분류된다. 사람이 이해하기 쉽게 작성된 고급 언어는 컴퓨터가 이해할 수 있는 저급 언어로 변환되어야 한다. 이 과정에서 고급 언어가 저급 언어로 바뀌는 방식에는 주로 컴파일 언어 방식과 인터프리터 언어 방식, 두 가지 방법이 있다.\n",
    "<br>\n",
    "<br>\n",
    "　먼저 컴파일 언어 방식에 대해 알아보자.<br><br> **컴파일 언어는 소스 코드 전체가 컴파일러에 의해 저급 언어로 변환되는 프로그래밍 언어를 지칭한다.**<br> 여기서 컴파일(compile)은 코드 전체를 저급 언어로 변환하는 과정을 의미하며, 컴파일러(compiler)는 이 과정을 수행하는 도구를 가리킨다. 컴파일러는 개발자가 작성한 소스 코드를 전반적으로 검토하여 문법적 오류가 있는지, 실행 가능한 코드인지 등을 분석하고, 소스 코드를 처음부터 끝까지 저급 언어로 컴파일한다. 이렇게 컴파일러를 통해 저급 언어로 변환된 코드는 목적(object) 코드라고 부른다. 대표적인 컴파일 언어로는 C가 있다.\n",
    "\n",
    " \n",
    "\n",
    "![nn](컴파일.png)\n",
    "고급 언어가 컴파일 방식으로 저급 언어로 변환되는 과정\n",
    " \n",
    "\n",
    "　<br>**인터프리터 방식은 인터프리터에 의해 소스 코드가 한 줄씩 실행되는 프로그래밍 언어다.** <br>여기서 인터프리터(interpreter)란 소스 코드를 한 줄씩 저급 언어로 변환하여 실행해 주는 도구를 의미한다. 이 방식은 컴퓨터와 대화하듯 소스 코드를 한 줄씩 실행하기 때문에 소스 코드 전체를 저급 언어로 변환하는 시간을 기다릴 필요가 없다. 또한 N번째 줄에 문법적 오류가 있더라도 그 이전 줄들은 올바르게 수행된다. 하지만 컴파일 언어보다 처리 속도가 느리다는 단점이 있다. 대표적인 인터프리터 언어로는 파이썬이 있다. \n",
    "![nn](인터프리터.png)\n",
    "고급 언어가 인터프리터 방식으로 저급 언어로 변환되는 과정\n",
    " \n",
    "\n",
    "　여기서 주의해야 할 점은, 컴파일 언어와 인터프리터 언어는 양분되는 개념이 아니라는 것이다. C와 C++처럼 명확히 구분되는 언어도 있지만,  현대의 많은 프로그래밍 언어는 컴파일 언어와 인터프리터 언어 사이의 경계가 불분명하다. 따라서, 하나의 프로그래밍 언어가 반드시 이 두 가지 중 하나만을 따르는 것이 아니라는 점에 유념하자. 즉, 고급 언어가 저급 언어로 변환되는 대표적인 방법에는 컴파일 방식과 인터프리트 방식이 있다고 이해하는 것이 바람직하다.\n",
    "\n",
    "https://maloveforme.tistory.com/148\n",
    "https://imasoftwareengineer.tistory.com/43"
   ]
  },
  {
   "cell_type": "markdown",
   "id": "b2a75185",
   "metadata": {},
   "source": [
    "# EDA란?\n",
    "\n",
    "**Exploratory Data Analysis, 탐색적 데이터 분석**\n",
    "\n",
    "수집한 데이터가 들어왔을 때 이를 다양한 각도에서 관찰하고 만져가며 데이터를 이해하는 과정을 뜻합니다.\n",
    "\n",
    "단순하게는 데이터 각각의 열과 행이 무슨의미인지 확인해보고 <Br>내가 다뤄야할 관심사(변수들)를 테이블로 요약, 그래프화 하는 것부터,<br>\n",
    "좀더 많이 들어가면 변수들간의 관계확인, 분포확인, 통계적 가설 검정을 통해 데이터를 직관적으로 바라보는 과정입니다.\n",
    "\n",
    "이를 통해 \n",
    " * 데이터에 문제가 없는지 확인하고\n",
    " * 데이터의 전체적인 구성을 이해하고\n",
    " * 내가 현 데이터로 앞으로 어떤 분석을 할것인지 생각해보고\n",
    " * 목적변수, 설명변수를 확인하여 앞으로의 분석 모형을 구체화 시킬 수 있습니다."
   ]
  },
  {
   "cell_type": "markdown",
   "id": "c00855bd",
   "metadata": {},
   "source": [
    "# Jupyter? jupyter notebook? colab?"
   ]
  },
  {
   "cell_type": "markdown",
   "id": "56454fd4",
   "metadata": {},
   "source": [
    "![img](https://upload.wikimedia.org/wikipedia/commons/thumb/3/38/Jupyter_logo.svg/250px-Jupyter_logo.svg.png)\n",
    "\n",
    "\n",
    " 프로젝트 주피터(영어: Project Jupyter, Listeni/ˈdʒuːpɪtər/)는 \"오픈 소스 소프트웨어, 개방형 표준, 그리고 여러 개의 프로그래밍 언어에 걸쳐 인터랙티브 컴퓨팅을 위한 서비스 개발\"을 위해 설립된 비영리 단체이다.\n",
    " \n",
    " 2014년에 페르난도 페레즈에 의해 IPython으로부터 파생된 프로젝트 주피터는 여러 개의 언어를 통한 실행 환경을 지원한다. \n",
    " \n",
    " 프로젝트 주피터의 이름은 주피터가 지원하는 세 개의 핵심 언어인 Julia, 파이썬 그리고 R에서 유래했으며, 목성의 위성의 발견이 기록된 갈릴레오 갈릴레이의 공책에 대한 존경의 의미도 갖는다. \n",
    " \n",
    " 프로젝트 주피터는 인터랙티브 컴퓨팅 제품인 주피터 노트북, 주피터허브, 그리고 주피터 노트북의 차세대 버전인 주피터랩을 개발하고 지원해왔다.\n",
    "https://ko.wikipedia.org/wiki/%ED%94%84%EB%A1%9C%EC%A0%9D%ED%8A%B8_%EC%A3%BC%ED%94%BC%ED%84%B0"
   ]
  },
  {
   "cell_type": "markdown",
   "id": "3a8daff6",
   "metadata": {},
   "source": [
    "Jupyter Notebook은 오픈소스 웹 어플리케이션으로, 코드 작성, 시각화 및 문서 작성이 가능한 대화형 환경을 제공하는 도구입니다.\n",
    "\n",
    "주피터 노트북에서는 코드 셀과 마크다운 셀로 구성되어 있습니다. 코드 셀에서는 파이썬 코드를 작성하고 실행할 수 있으며, 마크다운 셀에서는 문서를 작성하고, 수식을 표현하거나, 이미지를 삽입할 수 있습니다. 이러한 코드와 문서를 함께 작성할 수 있어 데이터 분석, 머신러닝 등의 프로젝트에서 매우 유용하게 사용됩니다.\n",
    "\n",
    "또한, 주피터 노트북에서는 파이썬 코드를 한 줄씩 실행하면서 결과를 확인할 수 있어 디버깅과 테스트를 편리하게 수행할 수 있습니다. 코드를 실행하면 결과가 즉시 아래에 표시되며, 시각화된 그래프나 테이블 등을 바로 확인할 수 있습니다.\n",
    "\n",
    "Google Colab은 구글에서 제공하는 클라우드 기반 Jupyter Notebook 환경입니다.\n",
    "https://wikidocs.net/195613"
   ]
  },
  {
   "cell_type": "markdown",
   "id": "11dd901f",
   "metadata": {},
   "source": [
    "# 0. Jupyter notebook 과 친해지기  "
   ]
  },
  {
   "cell_type": "markdown",
   "id": "b5e03fe5",
   "metadata": {},
   "source": [
    "Basic python coding"
   ]
  },
  {
   "cell_type": "markdown",
   "id": "84164cbf",
   "metadata": {},
   "source": [
    "1. 데이터 출력하기 (print)"
   ]
  },
  {
   "cell_type": "code",
   "execution_count": null,
   "id": "dcee8021",
   "metadata": {},
   "outputs": [],
   "source": [
    "print(\"Hello world\")"
   ]
  },
  {
   "cell_type": "code",
   "execution_count": null,
   "id": "2ff468a1",
   "metadata": {},
   "outputs": [],
   "source": [
    "h = \"Hello world\"\n",
    "h"
   ]
  },
  {
   "cell_type": "code",
   "execution_count": null,
   "id": "7c4e9f9e",
   "metadata": {},
   "outputs": [],
   "source": [
    "print(h)"
   ]
  },
  {
   "cell_type": "markdown",
   "id": "6d30d635",
   "metadata": {},
   "source": [
    "1.1. print 다루기"
   ]
  },
  {
   "cell_type": "code",
   "execution_count": null,
   "id": "554d3986",
   "metadata": {},
   "outputs": [],
   "source": [
    "print(\"Hi, world\")\n",
    "print(\"Hi, Hello\")"
   ]
  },
  {
   "cell_type": "markdown",
   "id": "6286be90",
   "metadata": {},
   "source": [
    "python의 print는 기본적으로 문자의 마지막에 \"\\n\" 을 포함하고 있습니다.\n",
    "\n",
    "end=\" \" 를 이용해서 이를 수정할 수 있습니다"
   ]
  },
  {
   "cell_type": "code",
   "execution_count": null,
   "id": "df988581",
   "metadata": {},
   "outputs": [],
   "source": [
    "print(\"Hi, world\",end=\" \")\n",
    "print(\"Hi, Hello\")\n",
    "print(\"가나다라\",end=\", \")\n",
    "print(\"마바사\")\n",
    "print(\"This space is\",end=\"\\t\")\n",
    "print(\"tab\")"
   ]
  },
  {
   "cell_type": "markdown",
   "id": "815cec9e",
   "metadata": {},
   "source": [
    "2. 조건문과 반복문"
   ]
  },
  {
   "cell_type": "markdown",
   "id": "c1717cb1",
   "metadata": {},
   "source": [
    "python은 tab 혹은 명령어 앞의 space를 이용헤서 명령어의 순서(?), 종속(?)을 구분합니다."
   ]
  },
  {
   "cell_type": "code",
   "execution_count": null,
   "id": "92f8892c",
   "metadata": {},
   "outputs": [],
   "source": [
    "i = 3\n",
    "\n",
    "if i > 10:\n",
    "    print(\"over 10\")\n",
    "elif i > 5:\n",
    "    print(\"under 10 and over 5\")\n",
    "else:\n",
    "    print(\"under 5\")\n",
    "    "
   ]
  },
  {
   "cell_type": "code",
   "execution_count": null,
   "id": "6fabb0af",
   "metadata": {},
   "outputs": [],
   "source": [
    "for i in h:\n",
    "    print(i)\n",
    "for i in h: print(i,end=\"\")"
   ]
  },
  {
   "cell_type": "markdown",
   "id": "7981a973",
   "metadata": {},
   "source": [
    "3. list 자료형 다루기"
   ]
  },
  {
   "cell_type": "markdown",
   "id": "9a3fcd9b",
   "metadata": {},
   "source": [
    "파이썬의 여러 자료형 중에 가장 많이 쓰게될 자료형"
   ]
  },
  {
   "cell_type": "code",
   "execution_count": null,
   "id": "cfa1bda2",
   "metadata": {},
   "outputs": [],
   "source": [
    "li = []\n",
    "li"
   ]
  },
  {
   "cell_type": "code",
   "execution_count": null,
   "id": "8bf336c3",
   "metadata": {},
   "outputs": [],
   "source": [
    "li.append(\"A\")"
   ]
  },
  {
   "cell_type": "code",
   "execution_count": null,
   "id": "45b6c979",
   "metadata": {},
   "outputs": [],
   "source": [
    "li"
   ]
  },
  {
   "cell_type": "code",
   "execution_count": null,
   "id": "04492a93",
   "metadata": {},
   "outputs": [],
   "source": [
    "li.append(\"T\")\n",
    "li.append(\"G\")\n",
    "li.append(\"C\")\n",
    "li.append(\"C\")\n",
    "li.append(\"T\")"
   ]
  },
  {
   "cell_type": "code",
   "execution_count": null,
   "id": "245f07bc",
   "metadata": {},
   "outputs": [],
   "source": [
    "li"
   ]
  },
  {
   "cell_type": "code",
   "execution_count": null,
   "id": "c8d43be5",
   "metadata": {},
   "outputs": [],
   "source": [
    "li[0]"
   ]
  },
  {
   "cell_type": "code",
   "execution_count": null,
   "id": "b70479c9",
   "metadata": {},
   "outputs": [],
   "source": [
    "li[-1:]"
   ]
  },
  {
   "cell_type": "code",
   "execution_count": null,
   "id": "e1f4020a",
   "metadata": {},
   "outputs": [],
   "source": [
    "li[1:-1]"
   ]
  },
  {
   "cell_type": "code",
   "execution_count": null,
   "id": "fbeab840",
   "metadata": {},
   "outputs": [],
   "source": [
    "for i in li:\n",
    "    print(i)"
   ]
  },
  {
   "cell_type": "code",
   "execution_count": null,
   "id": "54e78ca1",
   "metadata": {},
   "outputs": [],
   "source": [
    "for i in li:\n",
    "    if(i == \"T\"):\n",
    "        print(\"U\")\n",
    "    else:\n",
    "        print(i)\n",
    "    "
   ]
  },
  {
   "cell_type": "code",
   "execution_count": null,
   "id": "bd10645f",
   "metadata": {},
   "outputs": [],
   "source": [
    "for i in li:\n",
    "    if(i == \"T\"):\n",
    "        print(\"U\")\n",
    "        continue\n",
    "    print(i)"
   ]
  },
  {
   "cell_type": "code",
   "execution_count": null,
   "id": "67bfdcb8",
   "metadata": {},
   "outputs": [],
   "source": [
    "li"
   ]
  },
  {
   "cell_type": "code",
   "execution_count": null,
   "id": "8d3acdd9",
   "metadata": {},
   "outputs": [],
   "source": [
    "temp = li"
   ]
  },
  {
   "cell_type": "code",
   "execution_count": null,
   "id": "4fe29ad1",
   "metadata": {
    "scrolled": true
   },
   "outputs": [],
   "source": [
    "temp"
   ]
  },
  {
   "cell_type": "code",
   "execution_count": null,
   "id": "ad703327",
   "metadata": {},
   "outputs": [],
   "source": [
    "temp[1] = \"U\"\n",
    "temp[-1] = \"U\""
   ]
  },
  {
   "cell_type": "code",
   "execution_count": null,
   "id": "26d791e3",
   "metadata": {},
   "outputs": [],
   "source": [
    "temp"
   ]
  },
  {
   "cell_type": "markdown",
   "id": "a99357c8",
   "metadata": {},
   "source": [
    "그렇다면 li 의 값은 변했을까? 변하지 않았을까??"
   ]
  },
  {
   "cell_type": "code",
   "execution_count": null,
   "id": "3fa8a646",
   "metadata": {},
   "outputs": [],
   "source": [
    "li"
   ]
  },
  {
   "cell_type": "markdown",
   "id": "b5da10b0",
   "metadata": {},
   "source": [
    "위와 같은 경우 아래처럼 한가지 데이터를 가르키는 변수가 2개가 된 것이 되므로 주의해야한다.\n",
    "![img](https://img1.daumcdn.net/thumb/R1280x0/?scode=mtistory2&fname=https%3A%2F%2Fblog.kakaocdn.net%2Fdn%2FZjMHE%2Fbtq1ztu7Pzn%2FkouoF7ALRHcULhBSn1Ml8k%2Fimg.png)"
   ]
  },
  {
   "cell_type": "markdown",
   "id": "bf02a14f",
   "metadata": {},
   "source": [
    "위와 같은 경우를 회피하기 위해 "
   ]
  },
  {
   "cell_type": "code",
   "execution_count": null,
   "id": "5408b2cc",
   "metadata": {},
   "outputs": [],
   "source": [
    "li= ['A', 'T', 'G', 'C', 'C', 'T']"
   ]
  },
  {
   "cell_type": "code",
   "execution_count": null,
   "id": "e8eef745",
   "metadata": {},
   "outputs": [],
   "source": [
    "# 새롭게 리스트를 생성하던가\n",
    "rn = []\n",
    "for i in li:\n",
    "    if(i == \"T\"):\n",
    "        rn.append(\"U\")\n",
    "        continue\n",
    "    rn.append(i)\n",
    "rn"
   ]
  },
  {
   "cell_type": "code",
   "execution_count": null,
   "id": "df7a53bd",
   "metadata": {},
   "outputs": [],
   "source": [
    "li"
   ]
  },
  {
   "cell_type": "code",
   "execution_count": null,
   "id": "850581be",
   "metadata": {},
   "outputs": [],
   "source": [
    "# deepcopy를 이용할 수 있다. \n",
    "import copy\n",
    "temp_deepcopy = copy.deepcopy(li)"
   ]
  },
  {
   "cell_type": "code",
   "execution_count": null,
   "id": "8b796b83",
   "metadata": {},
   "outputs": [],
   "source": [
    "temp_deepcopy"
   ]
  },
  {
   "cell_type": "code",
   "execution_count": null,
   "id": "70eaa1e1",
   "metadata": {},
   "outputs": [],
   "source": [
    "temp_deepcopy[1] = \"U\"\n",
    "temp_deepcopy[-1] = \"U\""
   ]
  },
  {
   "cell_type": "code",
   "execution_count": null,
   "id": "4a745c4c",
   "metadata": {},
   "outputs": [],
   "source": [
    "temp_deepcopy"
   ]
  },
  {
   "cell_type": "code",
   "execution_count": null,
   "id": "9285b934",
   "metadata": {},
   "outputs": [],
   "source": [
    "li"
   ]
  },
  {
   "cell_type": "code",
   "execution_count": null,
   "id": "0ed3d8cd",
   "metadata": {},
   "outputs": [],
   "source": [
    "# 그외 각종 리스트 연산들\n",
    "# 추가하는 방법\n",
    "li  = li + [\"A\",\"A\",\"A\"]\n",
    "print(\"Using '+' to add poly A to right end of li\", end=\" : \")\n",
    "print(li)\n",
    "\n",
    "li.extend([\"T\",\"T\",\"T\"])\n",
    "print(\"Using '+' to add poly T to right end of li\", end=\" : \")\n",
    "print(li)\n",
    "\n",
    "li.insert(3,\"T\")\n",
    "print(\"Using 'insert' to add T to index 3 in li\", end=\" : \")\n",
    "print(li)\n",
    "\n",
    "# 제거하는 방법\n",
    "del li[3]\n",
    "print(\"Using 'del' to remove T at index 3 in li\", end=\" : \")\n",
    "print(li)\n",
    "\n",
    "li.remove(\"A\")\n",
    "print(\"Using 'remove' to remove A first matched in target li(searching left to right / index ascending order)\", end=\" : \\n\")\n",
    "print(li)"
   ]
  },
  {
   "cell_type": "markdown",
   "id": "8d04497c",
   "metadata": {},
   "source": [
    "실습 문제 :\n",
    "\n",
    "**주어진 리스트 li = ['A', 'T', 'G', 'C', 'C', 'T'] 에서 'C'를 지우는 알고리즘을 구현하여라**\n",
    "\n",
    "단, 해당 값의 인덱스를 알 수 없다고 가정한다. -> 인덱스로 접근하여 삭제하지 말라"
   ]
  },
  {
   "cell_type": "code",
   "execution_count": null,
   "id": "5e64ccbd",
   "metadata": {},
   "outputs": [],
   "source": [
    "li = ['A', 'T', 'G', 'C', 'C', 'T'] "
   ]
  },
  {
   "cell_type": "code",
   "execution_count": null,
   "id": "1550a2a0",
   "metadata": {},
   "outputs": [],
   "source": []
  },
  {
   "cell_type": "code",
   "execution_count": null,
   "id": "bed61a34-4b2b-4337-8375-498ac87d502d",
   "metadata": {},
   "outputs": [],
   "source": []
  },
  {
   "cell_type": "code",
   "execution_count": null,
   "id": "3e4c89c1-dae5-47e3-b40c-f56561505f5d",
   "metadata": {},
   "outputs": [],
   "source": []
  },
  {
   "cell_type": "markdown",
   "id": "0f668207",
   "metadata": {},
   "source": [
    "# 1. Pandas로 데이터 다루기"
   ]
  },
  {
   "cell_type": "markdown",
   "id": "a28ab704",
   "metadata": {},
   "source": [
    "![nn](pandas호환.png)\n",
    "https://pandas.pydata.org/docs/user_guide/io.html"
   ]
  },
  {
   "cell_type": "markdown",
   "id": "55289fae",
   "metadata": {},
   "source": [
    "# 우리가 불러올 데이터들\n",
    "\n",
    "**엑셀**\n",
    "![nn](엑셀예시.png)\n",
    "\n",
    "**DEresults**\n",
    "![nn](DEresults예시.png)\n"
   ]
  },
  {
   "cell_type": "code",
   "execution_count": null,
   "id": "dd7b11dd",
   "metadata": {},
   "outputs": [],
   "source": [
    "import pandas as pd\n",
    "\n",
    "tsv_de_results = pd.read_csv(\"genes.counts.matrix.Blackblight_vs_Fireblight.edgeR.DE_results\",sep=\"\\t\")\n",
    "excel_gene2go_page1 = pd.read_excel(\"Pyrus_pyrifolia_v1.0_genes2Go.xlsx\",skiprows=[0,1],sheet_name=\"Page 1\")\n",
    "excel_gene2go_page2 = pd.read_excel(\"Pyrus_pyrifolia_v1.0_genes2Go.xlsx\",skiprows=[0,1],sheet_name=\"Page 2\")"
   ]
  },
  {
   "cell_type": "code",
   "execution_count": null,
   "id": "8495426f",
   "metadata": {
    "scrolled": true
   },
   "outputs": [],
   "source": [
    "tsv_de_results"
   ]
  },
  {
   "cell_type": "code",
   "execution_count": null,
   "id": "e08b757e",
   "metadata": {},
   "outputs": [],
   "source": [
    "excel_gene2go_page1"
   ]
  },
  {
   "cell_type": "code",
   "execution_count": null,
   "id": "94a24283",
   "metadata": {},
   "outputs": [],
   "source": [
    "excel_gene2go_page2"
   ]
  },
  {
   "cell_type": "markdown",
   "id": "e778f984",
   "metadata": {},
   "source": [
    "# 먼저 DE results 다루기\n",
    "\n",
    "# Dataframe의 구성요소\n",
    "\n",
    "![img](https://img1.daumcdn.net/thumb/R1280x0/?scode=mtistory2&fname=https%3A%2F%2Fblog.kakaocdn.net%2Fdn%2F33VT3%2Fbtq3DsGFPDT%2FrohQwEp2Z72zkVHvX9SRN1%2Fimg.png)"
   ]
  },
  {
   "cell_type": "code",
   "execution_count": null,
   "id": "3139fc36",
   "metadata": {},
   "outputs": [],
   "source": [
    "tsv_de_results"
   ]
  },
  {
   "cell_type": "code",
   "execution_count": null,
   "id": "257b78d7",
   "metadata": {},
   "outputs": [],
   "source": [
    "tsv_de_results.index"
   ]
  },
  {
   "cell_type": "code",
   "execution_count": null,
   "id": "3ba30e4f",
   "metadata": {},
   "outputs": [],
   "source": [
    "# Pandas \n",
    "tsv_de_results.PValue"
   ]
  },
  {
   "cell_type": "code",
   "execution_count": null,
   "id": "b9d44678",
   "metadata": {},
   "outputs": [],
   "source": [
    "tsv_de_results[\"PValue\"]"
   ]
  },
  {
   "cell_type": "code",
   "execution_count": null,
   "id": "af9b1246",
   "metadata": {
    "scrolled": true
   },
   "outputs": [],
   "source": [
    "# Pandas data frame의 구성요소\n",
    "print(\"Dataframe : \", end =\"\")\n",
    "print(type(tsv_de_results))\n",
    "print(\"Series : \" ,end =\"\")\n",
    "print(type(tsv_de_results.PValue))"
   ]
  },
  {
   "cell_type": "markdown",
   "id": "99ad60dc",
   "metadata": {},
   "source": [
    "# 보이는 것처럼 DataFrame과 Serise는 index를 가지고 있습니다. \n",
    "\n",
    "-> 인덱스로 접근하는 것이 가능하다."
   ]
  },
  {
   "cell_type": "code",
   "execution_count": null,
   "id": "e33bcfc7",
   "metadata": {},
   "outputs": [],
   "source": [
    "tsv_de_results.loc[\"nbis-gene-22768\"]"
   ]
  },
  {
   "cell_type": "code",
   "execution_count": null,
   "id": "f1501d99",
   "metadata": {},
   "outputs": [],
   "source": [
    "# 옆으로 가져온 경우에도 시리즈로 가져옵니다.!!\n",
    "print(\"Series : \" ,end =\"\")\n",
    "print(type(tsv_de_results.loc[\"nbis-gene-22768\"]))"
   ]
  },
  {
   "cell_type": "code",
   "execution_count": null,
   "id": "4785be3b",
   "metadata": {},
   "outputs": [],
   "source": [
    "import pandas as pd\n",
    "import seaborn as sns\n",
    "import matplotlib.pyplot as plt\n",
    "import numpy as np\n",
    "\n",
    "# sns style\n",
    "sns.set_style('white')\n",
    "\n",
    "# plot size\n",
    "plt.rcParams[\"figure.figsize\"] = [10, 10]\n",
    "plt.rcParams[\"figure.dpi\"] = 600"
   ]
  },
  {
   "cell_type": "code",
   "execution_count": null,
   "id": "b418570a",
   "metadata": {},
   "outputs": [],
   "source": [
    "def DE_volcano(DE_results_df,FDR_float,FC_float, visualization=True):\n",
    "    #Up regulated\n",
    "    fc = DE_results_df[\"logFC\"] > FC_float \n",
    "    fdr = DE_results_df[\"FDR\"] < FDR_float\n",
    "    fc_fdr = fc * fdr\n",
    "    fc_fdr = fc_fdr.astype(str)\n",
    "    fc_fdr = fc_fdr.replace(\"True\", 1)\n",
    "    fc_fdr = fc_fdr.replace(\"False\", 0)\n",
    "\n",
    "    #Down regulated\n",
    "    d_fc = DE_results_df[\"logFC\"] < -(FC_float) \n",
    "\n",
    "    d_fc_fdr = d_fc * fdr\n",
    "    d_fc_fdr = d_fc_fdr.astype(str)\n",
    "    d_fc_fdr = d_fc_fdr.replace(\"True\", -1)\n",
    "    d_fc_fdr = d_fc_fdr.replace(\"False\", 0)\n",
    "\n",
    "    Threshold = fc_fdr + d_fc_fdr\n",
    "\n",
    "    Threshold = Threshold.replace(1, \"UP\")\n",
    "    Threshold = Threshold.replace(0, \"_\")\n",
    "    Threshold = Threshold.replace(-1, \"DOWN\")\n",
    "    \n",
    "    DE_for_Volca = DE_results_df\n",
    "    DE_for_Volca[\"Threshold\"] = Threshold \n",
    "    DE_for_Volca[\"-logFDR\"] = -np.log10(DE_for_Volca[\"FDR\"])\n",
    "    \n",
    "    if visualization:\n",
    "        sns.set_style('white', rc=None)\n",
    "        colors = {\"UP\": \"Red\", \"_\": \"black\", \"DOWN\": \"Blue\"}\n",
    "        sns.scatterplot(data=DE_for_Volca, x='logFC', y='-logFDR', hue=\"Threshold\", edgecolor='none',alpha=0.7, palette = colors)\n",
    "        #plt.xscale('log') # log scaling\n",
    "        plt.xlabel(\"logFC\")\n",
    "        plt.ylabel(\"-log FDR\")\n",
    "        plt.title('Volcano plot for DEGs', fontsize=20)\n",
    "        #plt.grid(True, which='major', linestyle='--', linewidth=0.5)\n",
    "        plt.legend(bbox_to_anchor = (1,1))\n",
    "        plt.show()\n",
    "    \n",
    "    return DE_for_Volca"
   ]
  },
  {
   "cell_type": "code",
   "execution_count": null,
   "id": "50076598",
   "metadata": {},
   "outputs": [],
   "source": [
    "DE_volcano(tsv_de_results,0.05,1)"
   ]
  },
  {
   "cell_type": "code",
   "execution_count": null,
   "id": "17fda35b",
   "metadata": {},
   "outputs": [],
   "source": [
    "DE_modified = DE_volcano(tsv_de_results,0.05,1,False)"
   ]
  },
  {
   "cell_type": "code",
   "execution_count": null,
   "id": "a6b9efdc",
   "metadata": {},
   "outputs": [],
   "source": [
    "DE_modified[\"Threshold\"] == \"UP\""
   ]
  },
  {
   "cell_type": "code",
   "execution_count": null,
   "id": "01f3bf65",
   "metadata": {},
   "outputs": [],
   "source": [
    "DE_modified[DE_modified[\"Threshold\"] == \"UP\"]"
   ]
  },
  {
   "cell_type": "code",
   "execution_count": null,
   "id": "30530f43",
   "metadata": {},
   "outputs": [],
   "source": [
    "DE_modified[DE_modified[\"Threshold\"] == \"DOWN\"]"
   ]
  },
  {
   "cell_type": "markdown",
   "id": "08ea03d2",
   "metadata": {},
   "source": [
    "# Excel 데이터를 다뤄보자"
   ]
  },
  {
   "cell_type": "code",
   "execution_count": null,
   "id": "00463338",
   "metadata": {},
   "outputs": [],
   "source": [
    "excel_gene2go_page1"
   ]
  },
  {
   "cell_type": "code",
   "execution_count": null,
   "id": "b04c2dfc",
   "metadata": {},
   "outputs": [],
   "source": [
    "excel_gene2go_page1[\"Description\"]"
   ]
  },
  {
   "cell_type": "code",
   "execution_count": null,
   "id": "4b741898",
   "metadata": {},
   "outputs": [],
   "source": [
    "go =[]\n",
    "term = []\n",
    "for i in excel_gene2go_page1[\"Description\"]:\n",
    "    go.append(i.split(\":\")[0])\n",
    "    term.append(\"\".join(i.split(\":\")[1:]))"
   ]
  },
  {
   "cell_type": "code",
   "execution_count": null,
   "id": "d106430c",
   "metadata": {},
   "outputs": [],
   "source": [
    "excel_gene2go_page1[\"GO\"] = go\n",
    "excel_gene2go_page1[\"Term\"] = term"
   ]
  },
  {
   "cell_type": "code",
   "execution_count": null,
   "id": "529506c1",
   "metadata": {},
   "outputs": [],
   "source": [
    "excel_gene2go_page1"
   ]
  },
  {
   "cell_type": "code",
   "execution_count": null,
   "id": "d72c9959",
   "metadata": {},
   "outputs": [],
   "source": [
    "excel_gene2go_page1[[\"Query\",\"Match\",\"GO\",\"Term\"]]"
   ]
  },
  {
   "cell_type": "code",
   "execution_count": null,
   "id": "3e9be9fb",
   "metadata": {},
   "outputs": [],
   "source": [
    "go =[]\n",
    "term = []\n",
    "for i in excel_gene2go_page2[\"Description\"]:\n",
    "    go.append(i.split(\":\")[0])\n",
    "    term.append(\"\".join(i.split(\":\")[1:]))\n",
    "    \n",
    "excel_gene2go_page2[\"GO\"] = go\n",
    "excel_gene2go_page2[\"Term\"] = term"
   ]
  },
  {
   "cell_type": "code",
   "execution_count": null,
   "id": "651faad4",
   "metadata": {},
   "outputs": [],
   "source": [
    "excel_gene2go_page2[[\"Query\",\"Match\",\"GO\",\"Term\"]]"
   ]
  },
  {
   "cell_type": "code",
   "execution_count": null,
   "id": "886396bb",
   "metadata": {},
   "outputs": [],
   "source": [
    "target1 = excel_gene2go_page1[[\"Query\",\"Match\",\"GO\",\"Term\"]]\n",
    "target2 = excel_gene2go_page2[[\"Query\",\"Match\",\"GO\",\"Term\"]]"
   ]
  },
  {
   "cell_type": "code",
   "execution_count": null,
   "id": "044b7147",
   "metadata": {
    "scrolled": true
   },
   "outputs": [],
   "source": [
    "pd.concat([target1,target2])"
   ]
  },
  {
   "cell_type": "markdown",
   "id": "aac3f9ff",
   "metadata": {},
   "source": [
    "뭔가 이상한 점이 있다 -> 인덱스가 유일하지 정렬도 안되고 중복되게 되었다. \n",
    "인덱스를 재설정하여 수정가능하다."
   ]
  },
  {
   "cell_type": "code",
   "execution_count": null,
   "id": "cac299a2",
   "metadata": {},
   "outputs": [],
   "source": [
    "excel_gene2go = pd.concat([target1,target2])"
   ]
  },
  {
   "cell_type": "code",
   "execution_count": null,
   "id": "2e3e7a92",
   "metadata": {},
   "outputs": [],
   "source": [
    "gene_id = [i.split(\"_v\")[0] for i in excel_gene2go[\"Query\"]]"
   ]
  },
  {
   "cell_type": "code",
   "execution_count": null,
   "id": "ebedcbc6",
   "metadata": {},
   "outputs": [],
   "source": [
    "gene_id"
   ]
  },
  {
   "cell_type": "code",
   "execution_count": null,
   "id": "f934bc10",
   "metadata": {},
   "outputs": [],
   "source": [
    "excel_gene2go.index = gene_id"
   ]
  },
  {
   "cell_type": "code",
   "execution_count": null,
   "id": "e9ca94cc",
   "metadata": {},
   "outputs": [],
   "source": [
    "genes_query = [\"Ppy00g0034.1\",\"Ppy00g0042.1\",\"Ppy00g0040.1\"]"
   ]
  },
  {
   "cell_type": "code",
   "execution_count": null,
   "id": "58362e5d",
   "metadata": {},
   "outputs": [],
   "source": [
    "excel_gene2go.loc[genes_query]"
   ]
  },
  {
   "cell_type": "code",
   "execution_count": null,
   "id": "ed388360",
   "metadata": {},
   "outputs": [],
   "source": []
  },
  {
   "cell_type": "markdown",
   "id": "8ef797ad",
   "metadata": {},
   "source": [
    "# 이 이후는 직접 해보기 입니다.\n",
    "Gene ID를 맞출 수 있는 테이블을 이용해서\n",
    "DE_modified 에서 DEG들의 GO를 확인해보세요\n",
    "\n",
    "<code>ID_PPY = pd.read_excel(\"ID_PPY_DATA.xlsx\")</code>"
   ]
  },
  {
   "cell_type": "code",
   "execution_count": null,
   "id": "f781a7b0",
   "metadata": {},
   "outputs": [],
   "source": []
  },
  {
   "cell_type": "code",
   "execution_count": null,
   "id": "48047704",
   "metadata": {},
   "outputs": [],
   "source": []
  },
  {
   "cell_type": "code",
   "execution_count": null,
   "id": "bb832e20",
   "metadata": {},
   "outputs": [],
   "source": []
  },
  {
   "cell_type": "code",
   "execution_count": null,
   "id": "96f5e98c",
   "metadata": {},
   "outputs": [],
   "source": []
  },
  {
   "cell_type": "markdown",
   "id": "e4c8478b",
   "metadata": {},
   "source": [
    "# 다음주에는 Python으로 visualization을 하는 방법과 본격적으로 matrix를 다루려 합니다."
   ]
  },
  {
   "cell_type": "code",
   "execution_count": null,
   "id": "7a1a9d0d",
   "metadata": {},
   "outputs": [],
   "source": []
  },
  {
   "cell_type": "code",
   "execution_count": null,
   "id": "6f1f155e",
   "metadata": {},
   "outputs": [],
   "source": []
  },
  {
   "cell_type": "code",
   "execution_count": null,
   "id": "a16312c5",
   "metadata": {},
   "outputs": [],
   "source": []
  },
  {
   "cell_type": "code",
   "execution_count": null,
   "id": "1f86bbb6",
   "metadata": {},
   "outputs": [],
   "source": []
  },
  {
   "cell_type": "code",
   "execution_count": null,
   "id": "a878b96e",
   "metadata": {},
   "outputs": [],
   "source": []
  },
  {
   "cell_type": "code",
   "execution_count": null,
   "id": "4b04e1b8",
   "metadata": {},
   "outputs": [],
   "source": []
  },
  {
   "cell_type": "code",
   "execution_count": null,
   "id": "d80a6786",
   "metadata": {},
   "outputs": [],
   "source": []
  },
  {
   "cell_type": "code",
   "execution_count": null,
   "id": "b7fe585f",
   "metadata": {},
   "outputs": [],
   "source": []
  },
  {
   "cell_type": "code",
   "execution_count": null,
   "id": "a95cd4e4",
   "metadata": {},
   "outputs": [],
   "source": []
  },
  {
   "cell_type": "code",
   "execution_count": null,
   "id": "905ca19c",
   "metadata": {},
   "outputs": [],
   "source": []
  },
  {
   "cell_type": "code",
   "execution_count": null,
   "id": "222a1809",
   "metadata": {},
   "outputs": [],
   "source": []
  },
  {
   "cell_type": "code",
   "execution_count": null,
   "id": "b171c131",
   "metadata": {},
   "outputs": [],
   "source": []
  },
  {
   "cell_type": "code",
   "execution_count": null,
   "id": "8eae3403",
   "metadata": {},
   "outputs": [],
   "source": []
  },
  {
   "cell_type": "code",
   "execution_count": null,
   "id": "327625ed",
   "metadata": {},
   "outputs": [],
   "source": []
  },
  {
   "cell_type": "code",
   "execution_count": null,
   "id": "32e8b2bd",
   "metadata": {},
   "outputs": [],
   "source": []
  },
  {
   "cell_type": "code",
   "execution_count": null,
   "id": "46d90f46",
   "metadata": {},
   "outputs": [],
   "source": []
  }
 ],
 "metadata": {
  "kernelspec": {
   "display_name": "Python 3 (ipykernel)",
   "language": "python",
   "name": "python3"
  },
  "language_info": {
   "codemirror_mode": {
    "name": "ipython",
    "version": 3
   },
   "file_extension": ".py",
   "mimetype": "text/x-python",
   "name": "python",
   "nbconvert_exporter": "python",
   "pygments_lexer": "ipython3",
   "version": "3.11.5"
  }
 },
 "nbformat": 4,
 "nbformat_minor": 5
}
